{
 "cells": [
  {
   "cell_type": "code",
   "execution_count": 1,
   "metadata": {
    "collapsed": true
   },
   "outputs": [],
   "source": [
    "!mkdir data"
   ]
  },
  {
   "cell_type": "markdown",
   "metadata": {},
   "source": [
    "## Global DEM Data"
   ]
  },
  {
   "cell_type": "code",
   "execution_count": 20,
   "metadata": {
    "collapsed": true
   },
   "outputs": [],
   "source": [
    "!mkdir data/elevation"
   ]
  },
  {
   "cell_type": "code",
   "execution_count": 11,
   "metadata": {},
   "outputs": [
    {
     "name": "stdout",
     "output_type": "stream",
     "text": [
      "  % Total    % Received % Xferd  Average Speed   Time    Time     Time  Current\n",
      "                                 Dload  Upload   Total   Spent    Left  Speed\n",
      "100 19.5M  100 19.5M    0     0  1318k      0  0:00:15  0:00:15 --:--:-- 1505k\n"
     ]
    }
   ],
   "source": [
    "!curl -k https://srtm.csi.cgiar.org/wp-content/uploads/files/srtm_5x5/TIFF/srtm_54_08.zip --output data/elevation.zip"
   ]
  },
  {
   "cell_type": "code",
   "execution_count": 23,
   "metadata": {},
   "outputs": [
    {
     "name": "stdout",
     "output_type": "stream",
     "text": [
      "Archive:  data/elevation.zip\n",
      "  inflating: data/elevation/readme.txt  \n",
      "  inflating: data/elevation/srtm_54_08.hdr  \n",
      "  inflating: data/elevation/srtm_54_08.tfw  \n",
      "  inflating: data/elevation/srtm_54_08.tif  \n"
     ]
    }
   ],
   "source": [
    "!unzip data/elevation.zip -d  data/elevation/"
   ]
  },
  {
   "cell_type": "code",
   "execution_count": 24,
   "metadata": {},
   "outputs": [
    {
     "name": "stdout",
     "output_type": "stream",
     "text": [
      "PROCESSED SRTM DATA VERSION 4.1\r",
      "\r\n",
      "\r",
      "\r\n",
      "The data  distributed here  are in  ARC GRID,  ARC ASCII  and Geotiff format, in\r",
      "\r\n",
      "decimal degrees and datum WGS84.  They are derived from the USGS/NASA SRTM data.\r",
      "\r\n",
      "CIAT  have  processed  this  data  to  provide  seamless  continuous  topography\r",
      "\r\n",
      "surfaces.  Areas with  regions of no  data in the  original SRTM data  have been\r",
      "\r\n",
      "filled using interpolation methods described by Reuter et al. (2007).\r",
      "\r\n",
      "\r",
      "\r\n",
      "Version 4.1 has the following enhancements over V4.0:\r",
      "\r\n",
      "- Improved ocean mask used, which includes some small islands  previously  being \r",
      "\r\n",
      "  lost in the cut data.\r",
      "\r\n",
      "- Single no-data line of pixels along meridians fixed.\r",
      "\r\n",
      "- All GeoTiffs with 6000 x 6000 pixels.\r",
      "\r\n",
      "- For ASCII format files the projection definition is included in .prj files.\r",
      "\r\n",
      "- For GeoTiff format files the projection definition is in the .tfw  (ESRI TIFF \r",
      "\r\n",
      "  World) and a .hdr file that reports PROJ.4 equivelent projection definitions.\r",
      "\r\n",
      "\r",
      "\r\n",
      "DISTRIBUTION\r",
      "\r\n",
      "\r",
      "\r\n",
      "Users are  prohibited from  any commercial,  non-free resale,  or redistribution\r",
      "\r\n",
      "without explicit written permission from CIAT. Users should acknowledge CIAT  as\r",
      "\r\n",
      "the source used  in the creation  of any reports,  publications, new data  sets,\r",
      "\r\n",
      "derived products, or services resulting from the use of this data set. CIAT also\r",
      "\r\n",
      "request  reprints of  any publications  and notification  of any  redistributing\r",
      "\r\n",
      "efforts.   For commercial  access to  the data,  send requests  to Andy   Jarvis\r",
      "\r\n",
      "(a.jarvis@cgiar.org).\r",
      "\r\n",
      "\r",
      "\r\n",
      "NO WARRANTY OR LIABILITY\r",
      "\r\n",
      "\r",
      "\r\n",
      "CIAT provides  these data  without any  warranty of  any kind whatsoever, either\r",
      "\r\n",
      "express or implied,  including warranties of  merchantability and fitness  for a\r",
      "\r\n",
      "particular purpose. CIAT shall not  be liable for incidental, consequential,  or\r",
      "\r\n",
      "special damages arising out of the use of any data.\r",
      "\r\n",
      "\r",
      "\r\n",
      "ACKNOWLEDGMENT AND CITATION\r",
      "\r\n",
      "\r",
      "\r\n",
      "We kindly ask  any users to  cite this data  in any published  material produced\r",
      "\r\n",
      "using this data,  and if possible  link web pages  to the CIAT-CSI  SRTM website\r",
      "\r\n",
      "(http://srtm.csi.cgiar.org).\r",
      "\r\n",
      "\r",
      "\r\n",
      "Citations should be made as follows:\r",
      "\r\n",
      "\r",
      "\r\n",
      "Jarvis A., H.I. Reuter, A.  Nelson, E. Guevara, 2008, Hole-filled  seamless SRTM\r",
      "\r\n",
      "data V4, International  Centre for Tropical  Agriculture (CIAT), available  from\r",
      "\r\n",
      "http://srtm.csi.cgiar.org.\r",
      "\r\n",
      "\r",
      "\r\n",
      "REFERENCES\r",
      "\r\n",
      "\r",
      "\r\n",
      "Reuter  H.I,  A.  Nelson,  A.  Jarvis,  2007,  An  evaluation  of  void  filling\r",
      "\r\n",
      "interpolation  methods  for  SRTM  data,  International  Journal  of  Geographic\r",
      "\r\n",
      "Information Science, 21:9, 983-1008.\r",
      "\r\n"
     ]
    }
   ],
   "source": [
    "!cat data/elevation/readme.txt"
   ]
  },
  {
   "cell_type": "code",
   "execution_count": 10,
   "metadata": {},
   "outputs": [
    {
     "name": "stdout",
     "output_type": "stream",
     "text": [
      "Requirement already satisfied: pandas in /home/siddharthsachdeva/anaconda3/lib/python3.6/site-packages (1.1.5)\n",
      "Requirement already satisfied: numpy>=1.15.4 in /home/siddharthsachdeva/anaconda3/lib/python3.6/site-packages (from pandas) (1.19.5)\n",
      "Requirement already satisfied: python-dateutil>=2.7.3 in /home/siddharthsachdeva/anaconda3/lib/python3.6/site-packages (from pandas) (2.8.2)\n",
      "Requirement already satisfied: pytz>=2017.2 in /home/siddharthsachdeva/anaconda3/lib/python3.6/site-packages (from pandas) (2017.2)\n",
      "Requirement already satisfied: six>=1.5 in /home/siddharthsachdeva/anaconda3/lib/python3.6/site-packages (from python-dateutil>=2.7.3->pandas) (1.10.0)\n"
     ]
    }
   ],
   "source": [
    "!pip install --upgrade pandas"
   ]
  },
  {
   "cell_type": "code",
   "execution_count": 32,
   "metadata": {},
   "outputs": [
    {
     "name": "stdout",
     "output_type": "stream",
     "text": [
      "Collecting natcap.invest\n",
      "  Using cached natcap.invest-3.9.1.tar.gz (1.4 MB)\n",
      "  Installing build dependencies ... \u001b[?25ldone\n",
      "\u001b[?25h  Getting requirements to build wheel ... \u001b[?25ldone\n",
      "\u001b[?25h  Preparing metadata (pyproject.toml) ... \u001b[?25ldone\n",
      "\u001b[?25h  Downloading natcap.invest-3.9.0.tar.gz (1.4 MB)\n",
      "     |████████████████████████████████| 1.4 MB 8.1 MB/s            \n",
      "\u001b[?25h  Installing build dependencies ... \u001b[?25ldone\n",
      "\u001b[?25h  Getting requirements to build wheel ... \u001b[?25ldone\n",
      "\u001b[?25h  Preparing metadata (pyproject.toml) ... \u001b[?25ldone\n",
      "\u001b[?25hCollecting taskgraph[niced_processes]>=0.10.2\n",
      "  Using cached taskgraph-0.11.0-py3-none-any.whl (28 kB)\n",
      "Collecting chardet>=3.0.4\n",
      "  Using cached chardet-4.0.0-py2.py3-none-any.whl (178 kB)\n",
      "Collecting psutil>=5.6.6\n",
      "  Using cached psutil-5.8.0-cp36-cp36m-manylinux2010_x86_64.whl (291 kB)\n",
      "Collecting scipy<1.5.0,>=0.16.1\n",
      "  Downloading scipy-1.4.1-cp36-cp36m-manylinux1_x86_64.whl (26.1 MB)\n",
      "     |████████████████████████████████| 26.1 MB 42.4 MB/s            \n",
      "\u001b[?25hCollecting xlrd>=1.2.0\n",
      "  Downloading xlrd-2.0.1-py2.py3-none-any.whl (96 kB)\n",
      "     |████████████████████████████████| 96 kB 6.8 MB/s             \n",
      "\u001b[?25hCollecting pandas>=1.0\n",
      "  Using cached pandas-1.1.5-cp36-cp36m-manylinux1_x86_64.whl (9.5 MB)\n",
      "Collecting Rtree!=0.9.1,>=0.8.2\n",
      "  Using cached Rtree-0.9.7-cp36-cp36m-manylinux2010_x86_64.whl (994 kB)\n",
      "Collecting Pyro4==4.77\n",
      "  Using cached Pyro4-4.77-py2.py3-none-any.whl (90 kB)\n",
      "Collecting Shapely<2.0.0,>=1.7.1\n",
      "  Downloading Shapely-1.8.0-cp36-cp36m-manylinux_2_5_x86_64.manylinux1_x86_64.whl (1.1 MB)\n",
      "     |████████████████████████████████| 1.1 MB 38.7 MB/s            \n",
      "\u001b[?25hRequirement already satisfied: xlwt in /home/siddharthsachdeva/anaconda3/lib/python3.6/site-packages (from natcap.invest) (1.2.0)\n",
      "Collecting pygeoprocessing>=2.1.1\n",
      "  Downloading pygeoprocessing-2.3.2.tar.gz (883 kB)\n",
      "     |████████████████████████████████| 883 kB 16.9 MB/s            \n",
      "\u001b[?25h  Installing build dependencies ... \u001b[?25ldone\n",
      "\u001b[?25h  Getting requirements to build wheel ... \u001b[?25ldone\n",
      "\u001b[?25h  Preparing metadata (pyproject.toml) ... \u001b[?25ldone\n",
      "\u001b[?25hRequirement already satisfied: GDAL>=3.1.2 in /home/siddharthsachdeva/anaconda3/lib/python3.6/site-packages (from natcap.invest) (3.3.1)\n",
      "Requirement already satisfied: numpy!=1.16.0,>=1.11.0 in /home/siddharthsachdeva/anaconda3/lib/python3.6/site-packages (from natcap.invest) (1.19.5)\n",
      "Collecting serpent>=1.27\n",
      "  Downloading serpent-1.40-py3-none-any.whl (9.6 kB)\n",
      "Requirement already satisfied: python-dateutil>=2.7.3 in /home/siddharthsachdeva/anaconda3/lib/python3.6/site-packages (from pandas>=1.0->natcap.invest) (2.8.2)\n",
      "Requirement already satisfied: pytz>=2017.2 in /home/siddharthsachdeva/anaconda3/lib/python3.6/site-packages (from pandas>=1.0->natcap.invest) (2017.2)\n",
      "Requirement already satisfied: Cython in /home/siddharthsachdeva/anaconda3/lib/python3.6/site-packages (from pygeoprocessing>=2.1.1->natcap.invest) (0.25.2)\n",
      "Collecting retrying>=1.3.0\n",
      "  Downloading retrying-1.3.3.tar.gz (10 kB)\n",
      "  Preparing metadata (setup.py) ... \u001b[?25ldone\n",
      "\u001b[?25hRequirement already satisfied: six>=1.5 in /home/siddharthsachdeva/anaconda3/lib/python3.6/site-packages (from python-dateutil>=2.7.3->pandas>=1.0->natcap.invest) (1.10.0)\n",
      "Building wheels for collected packages: natcap.invest, pygeoprocessing, retrying\n",
      "  Building wheel for natcap.invest (pyproject.toml) ... \u001b[?25lerror\n",
      "\u001b[31m  ERROR: Command errored out with exit status 1:\n",
      "   command: /home/siddharthsachdeva/anaconda3/bin/python /home/siddharthsachdeva/anaconda3/lib/python3.6/site-packages/pip/_vendor/pep517/in_process/_in_process.py build_wheel /tmp/tmpctfb0qng\n",
      "       cwd: /tmp/pip-install-df7x24ah/natcap-invest_f792508f402940a79904408d3af55525\n",
      "  Complete output (155 lines):\n",
      "  running bdist_wheel\n",
      "  running build\n",
      "  running build_py\n",
      "  creating build\n",
      "  creating build/lib.linux-x86_64-3.6\n",
      "  creating build/lib.linux-x86_64-3.6/natcap\n",
      "  copying src/natcap/__init__.py -> build/lib.linux-x86_64-3.6/natcap\n",
      "  creating build/lib.linux-x86_64-3.6/natcap/invest\n",
      "  copying src/natcap/invest/__init__.py -> build/lib.linux-x86_64-3.6/natcap/invest\n",
      "  copying src/natcap/invest/cli.py -> build/lib.linux-x86_64-3.6/natcap/invest\n",
      "  copying src/natcap/invest/crop_production_percentile.py -> build/lib.linux-x86_64-3.6/natcap/invest\n",
      "  copying src/natcap/invest/pollination.py -> build/lib.linux-x86_64-3.6/natcap/invest\n",
      "  copying src/natcap/invest/habitat_quality.py -> build/lib.linux-x86_64-3.6/natcap/invest\n",
      "  copying src/natcap/invest/crop_production_regression.py -> build/lib.linux-x86_64-3.6/natcap/invest\n",
      "  copying src/natcap/invest/utils.py -> build/lib.linux-x86_64-3.6/natcap/invest\n",
      "  copying src/natcap/invest/datastack.py -> build/lib.linux-x86_64-3.6/natcap/invest\n",
      "  copying src/natcap/invest/wave_energy.py -> build/lib.linux-x86_64-3.6/natcap/invest\n",
      "  copying src/natcap/invest/wind_energy.py -> build/lib.linux-x86_64-3.6/natcap/invest\n",
      "  copying src/natcap/invest/coastal_vulnerability.py -> build/lib.linux-x86_64-3.6/natcap/invest\n",
      "  copying src/natcap/invest/forest_carbon_edge_effect.py -> build/lib.linux-x86_64-3.6/natcap/invest\n",
      "  copying src/natcap/invest/carbon.py -> build/lib.linux-x86_64-3.6/natcap/invest\n",
      "  copying src/natcap/invest/routedem.py -> build/lib.linux-x86_64-3.6/natcap/invest\n",
      "  copying src/natcap/invest/urban_cooling_model.py -> build/lib.linux-x86_64-3.6/natcap/invest\n",
      "  copying src/natcap/invest/scenario_gen_proximity.py -> build/lib.linux-x86_64-3.6/natcap/invest\n",
      "  copying src/natcap/invest/hra.py -> build/lib.linux-x86_64-3.6/natcap/invest\n",
      "  copying src/natcap/invest/urban_flood_risk_mitigation.py -> build/lib.linux-x86_64-3.6/natcap/invest\n",
      "  copying src/natcap/invest/__main__.py -> build/lib.linux-x86_64-3.6/natcap/invest\n",
      "  copying src/natcap/invest/validation.py -> build/lib.linux-x86_64-3.6/natcap/invest\n",
      "  copying src/natcap/invest/globio.py -> build/lib.linux-x86_64-3.6/natcap/invest\n",
      "  creating build/lib.linux-x86_64-3.6/natcap/invest/coastal_blue_carbon\n",
      "  copying src/natcap/invest/coastal_blue_carbon/__init__.py -> build/lib.linux-x86_64-3.6/natcap/invest/coastal_blue_carbon\n",
      "  copying src/natcap/invest/coastal_blue_carbon/coastal_blue_carbon.py -> build/lib.linux-x86_64-3.6/natcap/invest/coastal_blue_carbon\n",
      "  copying src/natcap/invest/coastal_blue_carbon/preprocessor.py -> build/lib.linux-x86_64-3.6/natcap/invest/coastal_blue_carbon\n",
      "  creating build/lib.linux-x86_64-3.6/natcap/invest/delineateit\n",
      "  copying src/natcap/invest/delineateit/__init__.py -> build/lib.linux-x86_64-3.6/natcap/invest/delineateit\n",
      "  copying src/natcap/invest/delineateit/delineateit.py -> build/lib.linux-x86_64-3.6/natcap/invest/delineateit\n",
      "  creating build/lib.linux-x86_64-3.6/natcap/invest/finfish_aquaculture\n",
      "  copying src/natcap/invest/finfish_aquaculture/__init__.py -> build/lib.linux-x86_64-3.6/natcap/invest/finfish_aquaculture\n",
      "  copying src/natcap/invest/finfish_aquaculture/finfish_aquaculture.py -> build/lib.linux-x86_64-3.6/natcap/invest/finfish_aquaculture\n",
      "  copying src/natcap/invest/finfish_aquaculture/finfish_aquaculture_core.py -> build/lib.linux-x86_64-3.6/natcap/invest/finfish_aquaculture\n",
      "  creating build/lib.linux-x86_64-3.6/natcap/invest/fisheries\n",
      "  copying src/natcap/invest/fisheries/__init__.py -> build/lib.linux-x86_64-3.6/natcap/invest/fisheries\n",
      "  copying src/natcap/invest/fisheries/fisheries.py -> build/lib.linux-x86_64-3.6/natcap/invest/fisheries\n",
      "  copying src/natcap/invest/fisheries/fisheries_hst.py -> build/lib.linux-x86_64-3.6/natcap/invest/fisheries\n",
      "  copying src/natcap/invest/fisheries/fisheries_hst_io.py -> build/lib.linux-x86_64-3.6/natcap/invest/fisheries\n",
      "  copying src/natcap/invest/fisheries/fisheries_model.py -> build/lib.linux-x86_64-3.6/natcap/invest/fisheries\n",
      "  copying src/natcap/invest/fisheries/fisheries_io.py -> build/lib.linux-x86_64-3.6/natcap/invest/fisheries\n",
      "  creating build/lib.linux-x86_64-3.6/natcap/invest/hydropower\n",
      "  copying src/natcap/invest/hydropower/__init__.py -> build/lib.linux-x86_64-3.6/natcap/invest/hydropower\n",
      "  copying src/natcap/invest/hydropower/hydropower_water_yield.py -> build/lib.linux-x86_64-3.6/natcap/invest/hydropower\n",
      "  creating build/lib.linux-x86_64-3.6/natcap/invest/ui\n",
      "  copying src/natcap/invest/ui/__init__.py -> build/lib.linux-x86_64-3.6/natcap/invest/ui\n",
      "  copying src/natcap/invest/ui/fisheries.py -> build/lib.linux-x86_64-3.6/natcap/invest/ui\n",
      "  copying src/natcap/invest/ui/recreation.py -> build/lib.linux-x86_64-3.6/natcap/invest/ui\n",
      "  copying src/natcap/invest/ui/pollination.py -> build/lib.linux-x86_64-3.6/natcap/invest/ui\n",
      "  copying src/natcap/invest/ui/hydropower.py -> build/lib.linux-x86_64-3.6/natcap/invest/ui\n",
      "  copying src/natcap/invest/ui/execution.py -> build/lib.linux-x86_64-3.6/natcap/invest/ui\n",
      "  copying src/natcap/invest/ui/habitat_quality.py -> build/lib.linux-x86_64-3.6/natcap/invest/ui\n",
      "  copying src/natcap/invest/ui/crop_production.py -> build/lib.linux-x86_64-3.6/natcap/invest/ui\n",
      "  copying src/natcap/invest/ui/wave_energy.py -> build/lib.linux-x86_64-3.6/natcap/invest/ui\n",
      "  copying src/natcap/invest/ui/wind_energy.py -> build/lib.linux-x86_64-3.6/natcap/invest/ui\n",
      "  copying src/natcap/invest/ui/forest_carbon.py -> build/lib.linux-x86_64-3.6/natcap/invest/ui\n",
      "  copying src/natcap/invest/ui/sdr.py -> build/lib.linux-x86_64-3.6/natcap/invest/ui\n",
      "  copying src/natcap/invest/ui/coastal_vulnerability.py -> build/lib.linux-x86_64-3.6/natcap/invest/ui\n",
      "  copying src/natcap/invest/ui/usage.py -> build/lib.linux-x86_64-3.6/natcap/invest/ui\n",
      "  copying src/natcap/invest/ui/carbon.py -> build/lib.linux-x86_64-3.6/natcap/invest/ui\n",
      "  copying src/natcap/invest/ui/inputs.py -> build/lib.linux-x86_64-3.6/natcap/invest/ui\n",
      "  copying src/natcap/invest/ui/scenario_gen.py -> build/lib.linux-x86_64-3.6/natcap/invest/ui\n",
      "  copying src/natcap/invest/ui/delineateit.py -> build/lib.linux-x86_64-3.6/natcap/invest/ui\n",
      "  copying src/natcap/invest/ui/routedem.py -> build/lib.linux-x86_64-3.6/natcap/invest/ui\n",
      "  copying src/natcap/invest/ui/launcher.py -> build/lib.linux-x86_64-3.6/natcap/invest/ui\n",
      "  copying src/natcap/invest/ui/ndr.py -> build/lib.linux-x86_64-3.6/natcap/invest/ui\n",
      "  copying src/natcap/invest/ui/model.py -> build/lib.linux-x86_64-3.6/natcap/invest/ui\n",
      "  copying src/natcap/invest/ui/finfish.py -> build/lib.linux-x86_64-3.6/natcap/invest/ui\n",
      "  copying src/natcap/invest/ui/urban_cooling_model.py -> build/lib.linux-x86_64-3.6/natcap/invest/ui\n",
      "  copying src/natcap/invest/ui/seasonal_water_yield.py -> build/lib.linux-x86_64-3.6/natcap/invest/ui\n",
      "  copying src/natcap/invest/ui/hra.py -> build/lib.linux-x86_64-3.6/natcap/invest/ui\n",
      "  copying src/natcap/invest/ui/urban_flood_risk_mitigation.py -> build/lib.linux-x86_64-3.6/natcap/invest/ui\n",
      "  copying src/natcap/invest/ui/scenic_quality.py -> build/lib.linux-x86_64-3.6/natcap/invest/ui\n",
      "  copying src/natcap/invest/ui/globio.py -> build/lib.linux-x86_64-3.6/natcap/invest/ui\n",
      "  copying src/natcap/invest/ui/cbc.py -> build/lib.linux-x86_64-3.6/natcap/invest/ui\n",
      "  creating build/lib.linux-x86_64-3.6/natcap/invest/ndr\n",
      "  copying src/natcap/invest/ndr/__init__.py -> build/lib.linux-x86_64-3.6/natcap/invest/ndr\n",
      "  copying src/natcap/invest/ndr/ndr.py -> build/lib.linux-x86_64-3.6/natcap/invest/ndr\n",
      "  creating build/lib.linux-x86_64-3.6/natcap/invest/sdr\n",
      "  copying src/natcap/invest/sdr/__init__.py -> build/lib.linux-x86_64-3.6/natcap/invest/sdr\n",
      "  copying src/natcap/invest/sdr/sdr.py -> build/lib.linux-x86_64-3.6/natcap/invest/sdr\n",
      "  creating build/lib.linux-x86_64-3.6/natcap/invest/recreation\n",
      "  copying src/natcap/invest/recreation/__init__.py -> build/lib.linux-x86_64-3.6/natcap/invest/recreation\n",
      "  copying src/natcap/invest/recreation/recmodel_workspace_fetcher.py -> build/lib.linux-x86_64-3.6/natcap/invest/recreation\n",
      "  copying src/natcap/invest/recreation/buffered_numpy_disk_map.py -> build/lib.linux-x86_64-3.6/natcap/invest/recreation\n",
      "  copying src/natcap/invest/recreation/recmodel_server.py -> build/lib.linux-x86_64-3.6/natcap/invest/recreation\n",
      "  copying src/natcap/invest/recreation/recmodel_client.py -> build/lib.linux-x86_64-3.6/natcap/invest/recreation\n",
      "  creating build/lib.linux-x86_64-3.6/natcap/invest/reporting\n",
      "  copying src/natcap/invest/reporting/__init__.py -> build/lib.linux-x86_64-3.6/natcap/invest/reporting\n",
      "  copying src/natcap/invest/reporting/html.py -> build/lib.linux-x86_64-3.6/natcap/invest/reporting\n",
      "  copying src/natcap/invest/reporting/table_generator.py -> build/lib.linux-x86_64-3.6/natcap/invest/reporting\n",
      "  creating build/lib.linux-x86_64-3.6/natcap/invest/scenic_quality\n",
      "  copying src/natcap/invest/scenic_quality/__init__.py -> build/lib.linux-x86_64-3.6/natcap/invest/scenic_quality\n",
      "  copying src/natcap/invest/scenic_quality/scenic_quality.py -> build/lib.linux-x86_64-3.6/natcap/invest/scenic_quality\n",
      "  creating build/lib.linux-x86_64-3.6/natcap/invest/seasonal_water_yield\n",
      "  copying src/natcap/invest/seasonal_water_yield/__init__.py -> build/lib.linux-x86_64-3.6/natcap/invest/seasonal_water_yield\n",
      "  copying src/natcap/invest/seasonal_water_yield/seasonal_water_yield.py -> build/lib.linux-x86_64-3.6/natcap/invest/seasonal_water_yield\n",
      "  running egg_info\n",
      "  writing natcap.invest.egg-info/PKG-INFO\n",
      "  writing dependency_links to natcap.invest.egg-info/dependency_links.txt\n",
      "  writing entry points to natcap.invest.egg-info/entry_points.txt\n",
      "  writing namespace_packages to natcap.invest.egg-info/namespace_packages.txt\n",
      "  writing requirements to natcap.invest.egg-info/requires.txt\n",
      "  writing top-level names to natcap.invest.egg-info/top_level.txt\n",
      "  listing git files failed - pretending there aren't any\n",
      "  reading manifest file 'natcap.invest.egg-info/SOURCES.txt'\n",
      "  reading manifest template 'MANIFEST.in'\n",
      "  no previously-included directories found matching '.github'\n",
      "  no previously-included directories found matching 'ci'\n",
      "  no previously-included directories found matching 'exe'\n",
      "  no previously-included directories found matching 'installer'\n",
      "  no previously-included directories found matching 'doc/users-guide'\n",
      "  adding license file 'LICENSE.txt'\n",
      "  writing manifest file 'natcap.invest.egg-info/SOURCES.txt'\n",
      "  copying src/natcap/invest/delineateit/delineateit_core.cpp -> build/lib.linux-x86_64-3.6/natcap/invest/delineateit\n",
      "  copying src/natcap/invest/delineateit/delineateit_core.pyx -> build/lib.linux-x86_64-3.6/natcap/invest/delineateit\n",
      "  copying src/natcap/invest/ndr/LRUCache.h -> build/lib.linux-x86_64-3.6/natcap/invest/ndr\n",
      "  copying src/natcap/invest/ndr/ndr_core.cpp -> build/lib.linux-x86_64-3.6/natcap/invest/ndr\n",
      "  copying src/natcap/invest/ndr/ndr_core.pyx -> build/lib.linux-x86_64-3.6/natcap/invest/ndr\n",
      "  copying src/natcap/invest/sdr/LRUCache.h -> build/lib.linux-x86_64-3.6/natcap/invest/sdr\n",
      "  copying src/natcap/invest/sdr/sdr_core.cpp -> build/lib.linux-x86_64-3.6/natcap/invest/sdr\n",
      "  copying src/natcap/invest/sdr/sdr_core.pyx -> build/lib.linux-x86_64-3.6/natcap/invest/sdr\n",
      "  copying src/natcap/invest/recreation/out_of_core_quadtree.cpp -> build/lib.linux-x86_64-3.6/natcap/invest/recreation\n",
      "  copying src/natcap/invest/recreation/out_of_core_quadtree.pyx -> build/lib.linux-x86_64-3.6/natcap/invest/recreation\n",
      "  creating build/lib.linux-x86_64-3.6/natcap/invest/reporting/reporting_data\n",
      "  copying src/natcap/invest/reporting/reporting_data/jquery-1.10.2.min.js -> build/lib.linux-x86_64-3.6/natcap/invest/reporting/reporting_data\n",
      "  copying src/natcap/invest/reporting/reporting_data/sorttable.js -> build/lib.linux-x86_64-3.6/natcap/invest/reporting/reporting_data\n",
      "  copying src/natcap/invest/reporting/reporting_data/total_functions.js -> build/lib.linux-x86_64-3.6/natcap/invest/reporting/reporting_data\n",
      "  copying src/natcap/invest/scenic_quality/LRUCache.h -> build/lib.linux-x86_64-3.6/natcap/invest/scenic_quality\n",
      "  copying src/natcap/invest/scenic_quality/viewshed.cpp -> build/lib.linux-x86_64-3.6/natcap/invest/scenic_quality\n",
      "  copying src/natcap/invest/scenic_quality/viewshed.pyx -> build/lib.linux-x86_64-3.6/natcap/invest/scenic_quality\n",
      "  copying src/natcap/invest/seasonal_water_yield/LRUCache.h -> build/lib.linux-x86_64-3.6/natcap/invest/seasonal_water_yield\n",
      "  copying src/natcap/invest/seasonal_water_yield/seasonal_water_yield_core.cpp -> build/lib.linux-x86_64-3.6/natcap/invest/seasonal_water_yield\n",
      "  copying src/natcap/invest/seasonal_water_yield/seasonal_water_yield_core.pyx -> build/lib.linux-x86_64-3.6/natcap/invest/seasonal_water_yield\n",
      "  running build_ext\n",
      "  skipping 'src/natcap/invest/delineateit/delineateit_core.cpp' Cython extension (up-to-date)\n",
      "  skipping 'src/natcap/invest/recreation/out_of_core_quadtree.cpp' Cython extension (up-to-date)\n",
      "  skipping 'src/natcap/invest/scenic_quality/viewshed.cpp' Cython extension (up-to-date)\n",
      "  skipping 'src/natcap/invest/ndr/ndr_core.cpp' Cython extension (up-to-date)\n",
      "  skipping 'src/natcap/invest/sdr/sdr_core.cpp' Cython extension (up-to-date)\n",
      "  skipping 'src/natcap/invest/seasonal_water_yield/seasonal_water_yield_core.cpp' Cython extension (up-to-date)\n",
      "  building 'natcap.invest.delineateit.delineateit_core' extension\n",
      "  creating build/temp.linux-x86_64-3.6\n",
      "  creating build/temp.linux-x86_64-3.6/src\n",
      "  creating build/temp.linux-x86_64-3.6/src/natcap\n",
      "  creating build/temp.linux-x86_64-3.6/src/natcap/invest\n",
      "  creating build/temp.linux-x86_64-3.6/src/natcap/invest/delineateit\n",
      "  gcc -pthread -B /home/siddharthsachdeva/anaconda3/compiler_compat -Wl,--sysroot=/ -Wsign-compare -DNDEBUG -g -fwrapv -O3 -Wall -Wstrict-prototypes -fPIC -I/tmp/pip-build-env-a37qrkkc/overlay/lib/python3.6/site-packages/numpy/core/include -I/home/siddharthsachdeva/anaconda3/include/python3.6m -c src/natcap/invest/delineateit/delineateit_core.cpp -o build/temp.linux-x86_64-3.6/src/natcap/invest/delineateit/delineateit_core.o\n",
      "  error: command 'gcc' failed with exit status 1\n",
      "  ----------------------------------------\u001b[0m\n",
      "\u001b[31m  ERROR: Failed building wheel for natcap.invest\u001b[0m\n"
     ]
    },
    {
     "name": "stdout",
     "output_type": "stream",
     "text": [
      "\u001b[?25h  Building wheel for pygeoprocessing (pyproject.toml) ... \u001b[?25lerror\n",
      "\u001b[31m  ERROR: Command errored out with exit status 1:\n",
      "   command: /home/siddharthsachdeva/anaconda3/bin/python /home/siddharthsachdeva/anaconda3/lib/python3.6/site-packages/pip/_vendor/pep517/in_process/_in_process.py build_wheel /tmp/tmph_zowb9y\n",
      "       cwd: /tmp/pip-install-df7x24ah/pygeoprocessing_37bb515cc903497e87ba90a568cc04ec\n",
      "  Complete output (44 lines):\n",
      "  running bdist_wheel\n",
      "  running build\n",
      "  running build_py\n",
      "  creating build\n",
      "  creating build/lib.linux-x86_64-3.6\n",
      "  creating build/lib.linux-x86_64-3.6/pygeoprocessing\n",
      "  copying src/pygeoprocessing/__init__.py -> build/lib.linux-x86_64-3.6/pygeoprocessing\n",
      "  copying src/pygeoprocessing/symbolic.py -> build/lib.linux-x86_64-3.6/pygeoprocessing\n",
      "  copying src/pygeoprocessing/geoprocessing.py -> build/lib.linux-x86_64-3.6/pygeoprocessing\n",
      "  creating build/lib.linux-x86_64-3.6/pygeoprocessing/routing\n",
      "  copying src/pygeoprocessing/routing/__init__.py -> build/lib.linux-x86_64-3.6/pygeoprocessing/routing\n",
      "  creating build/lib.linux-x86_64-3.6/pygeoprocessing/multiprocessing\n",
      "  copying src/pygeoprocessing/multiprocessing/__init__.py -> build/lib.linux-x86_64-3.6/pygeoprocessing/multiprocessing\n",
      "  copying src/pygeoprocessing/multiprocessing/raster_calculator.py -> build/lib.linux-x86_64-3.6/pygeoprocessing/multiprocessing\n",
      "  running egg_info\n",
      "  writing pygeoprocessing.egg-info/PKG-INFO\n",
      "  writing dependency_links to pygeoprocessing.egg-info/dependency_links.txt\n",
      "  writing requirements to pygeoprocessing.egg-info/requires.txt\n",
      "  writing top-level names to pygeoprocessing.egg-info/top_level.txt\n",
      "  listing git files failed - pretending there aren't any\n",
      "  reading manifest file 'pygeoprocessing.egg-info/SOURCES.txt'\n",
      "  reading manifest template 'MANIFEST.in'\n",
      "  warning: no files found matching '*.pxd' under directory 'src'\n",
      "  adding license file 'LICENSE.txt'\n",
      "  writing manifest file 'pygeoprocessing.egg-info/SOURCES.txt'\n",
      "  copying src/pygeoprocessing/FastFileIterator.h -> build/lib.linux-x86_64-3.6/pygeoprocessing\n",
      "  copying src/pygeoprocessing/geoprocessing_core.cpp -> build/lib.linux-x86_64-3.6/pygeoprocessing\n",
      "  copying src/pygeoprocessing/geoprocessing_core.pyx -> build/lib.linux-x86_64-3.6/pygeoprocessing\n",
      "  copying src/pygeoprocessing/routing/LRUCache.h -> build/lib.linux-x86_64-3.6/pygeoprocessing/routing\n",
      "  copying src/pygeoprocessing/routing/routing.cpp -> build/lib.linux-x86_64-3.6/pygeoprocessing/routing\n",
      "  copying src/pygeoprocessing/routing/routing.pyx -> build/lib.linux-x86_64-3.6/pygeoprocessing/routing\n",
      "  copying src/pygeoprocessing/routing/watershed.cpp -> build/lib.linux-x86_64-3.6/pygeoprocessing/routing\n",
      "  copying src/pygeoprocessing/routing/watershed.pyx -> build/lib.linux-x86_64-3.6/pygeoprocessing/routing\n",
      "  running build_ext\n",
      "  skipping 'src/pygeoprocessing/routing/routing.cpp' Cython extension (up-to-date)\n",
      "  skipping 'src/pygeoprocessing/routing/watershed.cpp' Cython extension (up-to-date)\n",
      "  skipping 'src/pygeoprocessing/geoprocessing_core.cpp' Cython extension (up-to-date)\n",
      "  building 'pygeoprocessing.routing.routing' extension\n",
      "  creating build/temp.linux-x86_64-3.6\n",
      "  creating build/temp.linux-x86_64-3.6/src\n",
      "  creating build/temp.linux-x86_64-3.6/src/pygeoprocessing\n",
      "  creating build/temp.linux-x86_64-3.6/src/pygeoprocessing/routing\n",
      "  gcc -pthread -B /home/siddharthsachdeva/anaconda3/compiler_compat -Wl,--sysroot=/ -Wsign-compare -DNDEBUG -g -fwrapv -O3 -Wall -Wstrict-prototypes -fPIC -I/tmp/pip-build-env-weaaq_la/overlay/lib/python3.6/site-packages/numpy/core/include -Isrc/pygeoprocessing/routing -I/home/siddharthsachdeva/anaconda3/include/python3.6m -c src/pygeoprocessing/routing/routing.cpp -o build/temp.linux-x86_64-3.6/src/pygeoprocessing/routing/routing.o\n",
      "  error: command 'gcc' failed with exit status 1\n",
      "  ----------------------------------------\u001b[0m\n",
      "\u001b[31m  ERROR: Failed building wheel for pygeoprocessing\u001b[0m\n",
      "\u001b[?25h  Building wheel for retrying (setup.py) ... \u001b[?25ldone\n",
      "\u001b[?25h  Created wheel for retrying: filename=retrying-1.3.3-py3-none-any.whl size=9563 sha256=fd704d28e16b741f73b13f27978932ee547746bc358b78decbae99c56f0165c8\n",
      "  Stored in directory: /home/siddharthsachdeva/.cache/pip/wheels/ac/cb/8a/b27bf6323e2f4c462dcbf77d70b7c5e7868a7fbe12871770cf\n",
      "Successfully built retrying\n",
      "Failed to build natcap.invest pygeoprocessing\n",
      "\u001b[31mERROR: Could not build wheels for natcap.invest, pygeoprocessing, which is required to install pyproject.toml-based projects\u001b[0m\n"
     ]
    }
   ],
   "source": [
    "!pip install natcap.invest"
   ]
  },
  {
   "cell_type": "markdown",
   "metadata": {},
   "source": [
    "## Land Cover Data"
   ]
  },
  {
   "cell_type": "code",
   "execution_count": 32,
   "metadata": {},
   "outputs": [
    {
     "name": "stdout",
     "output_type": "stream",
     "text": [
      "Found existing installation: pytz 2017.2\r\n",
      "\u001b[31mERROR: Cannot uninstall 'pytz'. It is a distutils installed project and thus we cannot accurately determine which files belong to it which would lead to only a partial uninstall.\u001b[0m\r\n"
     ]
    }
   ],
   "source": [
    "!pip uninstall pytz"
   ]
  },
  {
   "cell_type": "code",
   "execution_count": 34,
   "metadata": {},
   "outputs": [
    {
     "name": "stdout",
     "output_type": "stream",
     "text": [
      "Collecting rioxarray\n",
      "  Downloading rioxarray-0.3.1.tar.gz (1.1 MB)\n",
      "     |████████████████████████████████| 1.1 MB 8.7 MB/s            \n",
      "\u001b[?25h  Installing build dependencies ... \u001b[?25ldone\n",
      "\u001b[?25h  Getting requirements to build wheel ... \u001b[?25ldone\n",
      "\u001b[?25h  Preparing metadata (pyproject.toml) ... \u001b[?25ldone\n",
      "\u001b[?25hCollecting pyproj>=2.2\n",
      "  Downloading pyproj-3.0.1-cp36-cp36m-manylinux2010_x86_64.whl (6.5 MB)\n",
      "     |████████████████████████████████| 6.5 MB 54.1 MB/s            \n",
      "\u001b[?25hRequirement already satisfied: scipy in /home/siddharthsachdeva/anaconda3/lib/python3.6/site-packages (from rioxarray) (1.5.3)\n",
      "Collecting xarray\n",
      "  Downloading xarray-0.16.2-py3-none-any.whl (736 kB)\n",
      "     |████████████████████████████████| 736 kB 47.1 MB/s            \n",
      "\u001b[?25hCollecting rasterio\n",
      "  Downloading rasterio-1.2.10-cp36-cp36m-manylinux_2_5_x86_64.manylinux1_x86_64.whl (19.2 MB)\n",
      "     |████████████████████████████████| 19.2 MB 32.5 MB/s            \n",
      "\u001b[?25hRequirement already satisfied: certifi in /home/siddharthsachdeva/anaconda3/lib/python3.6/site-packages (from pyproj>=2.2->rioxarray) (2021.5.30)\n",
      "Collecting affine\n",
      "  Downloading affine-2.3.0-py2.py3-none-any.whl (15 kB)\n",
      "Requirement already satisfied: setuptools in /home/siddharthsachdeva/anaconda3/lib/python3.6/site-packages (from rasterio->rioxarray) (58.0.4)\n",
      "Collecting click-plugins\n",
      "  Downloading click_plugins-1.1.1-py2.py3-none-any.whl (7.5 kB)\n",
      "Requirement already satisfied: numpy in /home/siddharthsachdeva/anaconda3/lib/python3.6/site-packages (from rasterio->rioxarray) (1.19.5)\n",
      "Collecting attrs\n",
      "  Downloading attrs-21.2.0-py2.py3-none-any.whl (53 kB)\n",
      "     |████████████████████████████████| 53 kB 3.0 MB/s             \n",
      "\u001b[?25hCollecting snuggs>=1.4.1\n",
      "  Downloading snuggs-1.4.7-py3-none-any.whl (5.4 kB)\n",
      "Requirement already satisfied: click>=4.0 in /home/siddharthsachdeva/anaconda3/lib/python3.6/site-packages (from rasterio->rioxarray) (6.7)\n",
      "Collecting cligj>=0.5\n",
      "  Downloading cligj-0.7.2-py3-none-any.whl (7.1 kB)\n",
      "Collecting pandas>=0.25\n",
      "  Downloading pandas-1.1.5-cp36-cp36m-manylinux1_x86_64.whl (9.5 MB)\n",
      "     |████████████████████████████████| 9.5 MB 51.2 MB/s            \n",
      "\u001b[?25hRequirement already satisfied: python-dateutil>=2.7.3 in /home/siddharthsachdeva/anaconda3/lib/python3.6/site-packages (from pandas>=0.25->xarray->rioxarray) (2.8.2)\n",
      "Requirement already satisfied: pytz>=2017.2 in /home/siddharthsachdeva/anaconda3/lib/python3.6/site-packages (from pandas>=0.25->xarray->rioxarray) (2017.2)\n",
      "Collecting pyparsing>=2.1.6\n",
      "  Using cached pyparsing-3.0.1-py3-none-any.whl (96 kB)\n",
      "Requirement already satisfied: six>=1.5 in /home/siddharthsachdeva/anaconda3/lib/python3.6/site-packages (from python-dateutil>=2.7.3->pandas>=0.25->xarray->rioxarray) (1.10.0)\n",
      "Building wheels for collected packages: rioxarray\n",
      "  Building wheel for rioxarray (pyproject.toml) ... \u001b[?25ldone\n",
      "\u001b[?25h  Created wheel for rioxarray: filename=rioxarray-0.3.1-py3-none-any.whl size=49145 sha256=cbdaa6fe89981c86dc4b17f05caccc772536ea48d7ec747659cad1d36d2f306a\n",
      "  Stored in directory: /home/siddharthsachdeva/.cache/pip/wheels/de/45/6c/1b458a823e1d391e3e0319a0ed01a911cd3f89ca1ca384d9d6\n",
      "Successfully built rioxarray\n",
      "Installing collected packages: pyparsing, snuggs, pandas, cligj, click-plugins, attrs, affine, xarray, rasterio, pyproj, rioxarray\n",
      "  Attempting uninstall: pyparsing\n",
      "    Found existing installation: pyparsing 2.1.4\n",
      "    Uninstalling pyparsing-2.1.4:\n",
      "      Successfully uninstalled pyparsing-2.1.4\n",
      "  Attempting uninstall: pandas\n",
      "    Found existing installation: pandas 0.20.3\n",
      "    Uninstalling pandas-0.20.3:\n",
      "      Successfully uninstalled pandas-0.20.3\n",
      "Successfully installed affine-2.3.0 attrs-21.2.0 click-plugins-1.1.1 cligj-0.7.2 pandas-1.1.5 pyparsing-3.0.1 pyproj-3.0.1 rasterio-1.2.10 rioxarray-0.3.1 snuggs-1.4.7 xarray-0.16.2\n"
     ]
    }
   ],
   "source": [
    "# !pip install pystac\n",
    "# !pip install --no-deps planetary-computer\n",
    "!pip install rioxarray"
   ]
  },
  {
   "cell_type": "code",
   "execution_count": 7,
   "metadata": {},
   "outputs": [
    {
     "ename": "HTTPError",
     "evalue": "404 Client Error: Not Found for url: https://planetarycomputer.microsoft.com/api/sas/v1/token/planetarycomputer/api",
     "output_type": "error",
     "traceback": [
      "\u001b[0;31m---------------------------------------------------------------------------\u001b[0m",
      "\u001b[0;31mHTTPError\u001b[0m                                 Traceback (most recent call last)",
      "\u001b[0;32m<ipython-input-7-d4835607f267>\u001b[0m in \u001b[0;36m<module>\u001b[0;34m()\u001b[0m\n\u001b[1;32m      7\u001b[0m \u001b[0;31m# Load the individual item metadata and sign the assets\u001b[0m\u001b[0;34m\u001b[0m\u001b[0;34m\u001b[0m\u001b[0;34m\u001b[0m\u001b[0m\n\u001b[1;32m      8\u001b[0m \u001b[0mitem\u001b[0m \u001b[0;34m=\u001b[0m \u001b[0mpystac\u001b[0m\u001b[0;34m.\u001b[0m\u001b[0mItem\u001b[0m\u001b[0;34m.\u001b[0m\u001b[0mfrom_file\u001b[0m\u001b[0;34m(\u001b[0m\u001b[0mitem_url\u001b[0m\u001b[0;34m)\u001b[0m\u001b[0;34m\u001b[0m\u001b[0;34m\u001b[0m\u001b[0m\n\u001b[0;32m----> 9\u001b[0;31m \u001b[0msigned_item\u001b[0m \u001b[0;34m=\u001b[0m \u001b[0mplanetary_computer\u001b[0m\u001b[0;34m.\u001b[0m\u001b[0msign\u001b[0m\u001b[0;34m(\u001b[0m\u001b[0mitem_url\u001b[0m\u001b[0;34m)\u001b[0m\u001b[0;34m\u001b[0m\u001b[0;34m\u001b[0m\u001b[0m\n\u001b[0m\u001b[1;32m     10\u001b[0m \u001b[0;34m\u001b[0m\u001b[0m\n\u001b[1;32m     11\u001b[0m \u001b[0;31m# Open one of the data assets\u001b[0m\u001b[0;34m\u001b[0m\u001b[0;34m\u001b[0m\u001b[0;34m\u001b[0m\u001b[0m\n",
      "\u001b[0;32m~/anaconda3/lib/python3.6/site-packages/planetary_computer/sas.py\u001b[0m in \u001b[0;36msign\u001b[0;34m(url)\u001b[0m\n\u001b[1;32m     64\u001b[0m     \u001b[0mThe\u001b[0m \u001b[0msigned\u001b[0m \u001b[0mHREF\u001b[0m \u001b[0mthat\u001b[0m \u001b[0mpermits\u001b[0m \u001b[0mread\u001b[0m \u001b[0maccess\u001b[0m \u001b[0mto\u001b[0m \u001b[0mthe\u001b[0m \u001b[0masset\u001b[0m\u001b[0;34m.\u001b[0m\u001b[0;34m\u001b[0m\u001b[0;34m\u001b[0m\u001b[0m\n\u001b[1;32m     65\u001b[0m     \"\"\"\n\u001b[0;32m---> 66\u001b[0;31m     \u001b[0mlink\u001b[0m \u001b[0;34m=\u001b[0m \u001b[0msign_link\u001b[0m\u001b[0;34m(\u001b[0m\u001b[0murl\u001b[0m\u001b[0;34m)\u001b[0m\u001b[0;34m\u001b[0m\u001b[0;34m\u001b[0m\u001b[0m\n\u001b[0m\u001b[1;32m     67\u001b[0m     \u001b[0;32mreturn\u001b[0m \u001b[0mlink\u001b[0m\u001b[0;34m.\u001b[0m\u001b[0mhref\u001b[0m\u001b[0;34m\u001b[0m\u001b[0;34m\u001b[0m\u001b[0m\n\u001b[1;32m     68\u001b[0m \u001b[0;34m\u001b[0m\u001b[0m\n",
      "\u001b[0;32m~/anaconda3/lib/python3.6/site-packages/planetary_computer/sas.py\u001b[0m in \u001b[0;36msign_link\u001b[0;34m(url)\u001b[0m\n\u001b[1;32m     95\u001b[0m         )\n\u001b[1;32m     96\u001b[0m         \u001b[0mresponse\u001b[0m \u001b[0;34m=\u001b[0m \u001b[0mrequests\u001b[0m\u001b[0;34m.\u001b[0m\u001b[0mget\u001b[0m\u001b[0;34m(\u001b[0m\u001b[0mtoken_request_url\u001b[0m\u001b[0;34m,\u001b[0m \u001b[0mheaders\u001b[0m\u001b[0;34m=\u001b[0m\u001b[0mheaders\u001b[0m\u001b[0;34m)\u001b[0m\u001b[0;34m\u001b[0m\u001b[0;34m\u001b[0m\u001b[0m\n\u001b[0;32m---> 97\u001b[0;31m         \u001b[0mresponse\u001b[0m\u001b[0;34m.\u001b[0m\u001b[0mraise_for_status\u001b[0m\u001b[0;34m(\u001b[0m\u001b[0;34m)\u001b[0m\u001b[0;34m\u001b[0m\u001b[0;34m\u001b[0m\u001b[0m\n\u001b[0m\u001b[1;32m     98\u001b[0m         \u001b[0mtoken\u001b[0m \u001b[0;34m=\u001b[0m \u001b[0mSASToken\u001b[0m\u001b[0;34m(\u001b[0m\u001b[0;34m**\u001b[0m\u001b[0mresponse\u001b[0m\u001b[0;34m.\u001b[0m\u001b[0mjson\u001b[0m\u001b[0;34m(\u001b[0m\u001b[0;34m)\u001b[0m\u001b[0;34m)\u001b[0m\u001b[0;34m\u001b[0m\u001b[0;34m\u001b[0m\u001b[0m\n\u001b[1;32m     99\u001b[0m         \u001b[0;32mif\u001b[0m \u001b[0;32mnot\u001b[0m \u001b[0mtoken\u001b[0m\u001b[0;34m:\u001b[0m\u001b[0;34m\u001b[0m\u001b[0;34m\u001b[0m\u001b[0m\n",
      "\u001b[0;32m~/anaconda3/lib/python3.6/site-packages/requests/models.py\u001b[0m in \u001b[0;36mraise_for_status\u001b[0;34m(self)\u001b[0m\n\u001b[1;32m    941\u001b[0m \u001b[0;34m\u001b[0m\u001b[0m\n\u001b[1;32m    942\u001b[0m         \u001b[0;32mif\u001b[0m \u001b[0mhttp_error_msg\u001b[0m\u001b[0;34m:\u001b[0m\u001b[0;34m\u001b[0m\u001b[0;34m\u001b[0m\u001b[0m\n\u001b[0;32m--> 943\u001b[0;31m             \u001b[0;32mraise\u001b[0m \u001b[0mHTTPError\u001b[0m\u001b[0;34m(\u001b[0m\u001b[0mhttp_error_msg\u001b[0m\u001b[0;34m,\u001b[0m \u001b[0mresponse\u001b[0m\u001b[0;34m=\u001b[0m\u001b[0mself\u001b[0m\u001b[0;34m)\u001b[0m\u001b[0;34m\u001b[0m\u001b[0;34m\u001b[0m\u001b[0m\n\u001b[0m\u001b[1;32m    944\u001b[0m \u001b[0;34m\u001b[0m\u001b[0m\n\u001b[1;32m    945\u001b[0m     \u001b[0;32mdef\u001b[0m \u001b[0mclose\u001b[0m\u001b[0;34m(\u001b[0m\u001b[0mself\u001b[0m\u001b[0;34m)\u001b[0m\u001b[0;34m:\u001b[0m\u001b[0;34m\u001b[0m\u001b[0;34m\u001b[0m\u001b[0m\n",
      "\u001b[0;31mHTTPError\u001b[0m: 404 Client Error: Not Found for url: https://planetarycomputer.microsoft.com/api/sas/v1/token/planetarycomputer/api"
     ]
    }
   ],
   "source": [
    "import pystac\n",
    "import planetary_computer\n",
    "import rioxarray\n",
    "\n",
    "item_url = \"https://planetarycomputer.microsoft.com/api/stac/v1/collections/io-lulc/items/45Q-2020\"\n",
    "\n",
    "# Load the individual item metadata and sign the assets\n",
    "item = pystac.Item.from_file(item_url)\n",
    "signed_item = planetary_computer.sign(item_url)\n",
    "\n",
    "# Open one of the data assets \n",
    "asset_href = signed_item.assets[\"data\"].href\n",
    "ds = rioxarray.open_rasterio(asset_href)\n",
    "ds"
   ]
  },
  {
   "cell_type": "markdown",
   "metadata": {},
   "source": [
    "## Looks like I need access to get it this way. Just signed up so we'll see."
   ]
  },
  {
   "cell_type": "code",
   "execution_count": 36,
   "metadata": {},
   "outputs": [
    {
     "ename": "SyntaxError",
     "evalue": "invalid syntax (<ipython-input-36-065e1efbd131>, line 1)",
     "output_type": "error",
     "traceback": [
      "\u001b[0;36m  File \u001b[0;32m\"<ipython-input-36-065e1efbd131>\"\u001b[0;36m, line \u001b[0;32m1\u001b[0m\n\u001b[0;31m    conda install libgcc\u001b[0m\n\u001b[0m                ^\u001b[0m\n\u001b[0;31mSyntaxError\u001b[0m\u001b[0;31m:\u001b[0m invalid syntax\n"
     ]
    }
   ],
   "source": [
    "conda install libgcc"
   ]
  },
  {
   "cell_type": "code",
   "execution_count": 6,
   "metadata": {},
   "outputs": [
    {
     "data": {
      "text/plain": [
       "('planetarycomputer', 'api')"
      ]
     },
     "execution_count": 6,
     "metadata": {},
     "output_type": "execute_result"
    }
   ],
   "source": [
    "from planetary_computer.utils import parse_blob_url\n",
    "\n",
    "parse_blob_url(item_url)"
   ]
  },
  {
   "cell_type": "code",
   "execution_count": 8,
   "metadata": {},
   "outputs": [
    {
     "name": "stdout",
     "output_type": "stream",
     "text": [
      "Found existing installation: pystac-client 0.2.0b2\r\n",
      "Uninstalling pystac-client-0.2.0b2:\r\n",
      "  Successfully uninstalled pystac-client-0.2.0b2\r\n"
     ]
    }
   ],
   "source": [
    "!pip uninstall -y pystac-client"
   ]
  },
  {
   "cell_type": "code",
   "execution_count": 11,
   "metadata": {},
   "outputs": [
    {
     "name": "stdout",
     "output_type": "stream",
     "text": [
      "Python 3.6.13\r\n"
     ]
    }
   ],
   "source": [
    "!python --version"
   ]
  },
  {
   "cell_type": "code",
   "execution_count": 7,
   "metadata": {},
   "outputs": [
    {
     "ename": "ConformanceError",
     "evalue": "API does not conform to {ConformanceClasses.STAC_API_CORE}. Must contain one of the following URIs to conform (preferably the first):\n\thttps://api.stacspec.org/v1.0.0-beta.1/core\n\thttp://stacspec.org/spec/api/1.0.0-beta.1/core.",
     "output_type": "error",
     "traceback": [
      "\u001b[0;31m---------------------------------------------------------------------------\u001b[0m",
      "\u001b[0;31mConformanceError\u001b[0m                          Traceback (most recent call last)",
      "\u001b[0;32m<ipython-input-7-924f6c748765>\u001b[0m in \u001b[0;36m<module>\u001b[0;34m()\u001b[0m\n\u001b[1;32m      1\u001b[0m \u001b[0;32mfrom\u001b[0m \u001b[0mpystac_client\u001b[0m \u001b[0;32mimport\u001b[0m \u001b[0mClient\u001b[0m\u001b[0;34m\u001b[0m\u001b[0;34m\u001b[0m\u001b[0m\n\u001b[1;32m      2\u001b[0m \u001b[0;34m\u001b[0m\u001b[0m\n\u001b[0;32m----> 3\u001b[0;31m \u001b[0mcatalog\u001b[0m \u001b[0;34m=\u001b[0m \u001b[0mClient\u001b[0m\u001b[0;34m.\u001b[0m\u001b[0mopen\u001b[0m\u001b[0;34m(\u001b[0m\u001b[0;34m\"https://planetarycomputer.microsoft.com/api/stac/v1\"\u001b[0m\u001b[0;34m)\u001b[0m\u001b[0;34m\u001b[0m\u001b[0;34m\u001b[0m\u001b[0m\n\u001b[0m",
      "\u001b[0;32m~/anaconda3/lib/python3.6/site-packages/pystac_client/client.py\u001b[0m in \u001b[0;36mopen\u001b[0;34m(cls, url, headers)\u001b[0m\n\u001b[1;32m     96\u001b[0m         \u001b[0;32mand\u001b[0m \u001b[0mto\u001b[0m \u001b[0mcheck\u001b[0m \u001b[0;32mif\u001b[0m \u001b[0mthe\u001b[0m \u001b[0mcontent\u001b[0m \u001b[0mconforms\u001b[0m \u001b[0mto\u001b[0m \u001b[0mthe\u001b[0m \u001b[0mSTAC\u001b[0m \u001b[0mAPI\u001b[0m \u001b[0;34m-\u001b[0m \u001b[0mCore\u001b[0m \u001b[0mspec\u001b[0m\u001b[0;34m.\u001b[0m\u001b[0;34m\u001b[0m\u001b[0;34m\u001b[0m\u001b[0m\n\u001b[1;32m     97\u001b[0m \u001b[0;34m\u001b[0m\u001b[0m\n\u001b[0;32m---> 98\u001b[0;31m         \u001b[0mRaises\u001b[0m\u001b[0;34m\u001b[0m\u001b[0;34m\u001b[0m\u001b[0m\n\u001b[0m\u001b[1;32m     99\u001b[0m         \u001b[0;34m-\u001b[0m\u001b[0;34m-\u001b[0m\u001b[0;34m-\u001b[0m\u001b[0;34m-\u001b[0m\u001b[0;34m-\u001b[0m\u001b[0;34m-\u001b[0m\u001b[0;34m\u001b[0m\u001b[0;34m\u001b[0m\u001b[0m\n\u001b[1;32m    100\u001b[0m         \u001b[0mpystac_client\u001b[0m\u001b[0;34m.\u001b[0m\u001b[0mexceptions\u001b[0m\u001b[0;34m.\u001b[0m\u001b[0mConformanceError\u001b[0m\u001b[0;34m\u001b[0m\u001b[0;34m\u001b[0m\u001b[0m\n",
      "\u001b[0;32m~/anaconda3/lib/python3.6/site-packages/pystac/stac_object.py\u001b[0m in \u001b[0;36mfrom_file\u001b[0;34m(cls, href)\u001b[0m\n\u001b[1;32m    494\u001b[0m         \u001b[0md\u001b[0m\u001b[0;34m:\u001b[0m \u001b[0mDict\u001b[0m\u001b[0;34m[\u001b[0m\u001b[0mstr\u001b[0m\u001b[0;34m,\u001b[0m \u001b[0mAny\u001b[0m\u001b[0;34m]\u001b[0m\u001b[0;34m,\u001b[0m\u001b[0;34m\u001b[0m\u001b[0;34m\u001b[0m\u001b[0m\n\u001b[1;32m    495\u001b[0m         \u001b[0mhref\u001b[0m\u001b[0;34m:\u001b[0m \u001b[0mOptional\u001b[0m\u001b[0;34m[\u001b[0m\u001b[0mstr\u001b[0m\u001b[0;34m]\u001b[0m \u001b[0;34m=\u001b[0m \u001b[0;32mNone\u001b[0m\u001b[0;34m,\u001b[0m\u001b[0;34m\u001b[0m\u001b[0;34m\u001b[0m\u001b[0m\n\u001b[0;32m--> 496\u001b[0;31m         \u001b[0mroot\u001b[0m\u001b[0;34m:\u001b[0m \u001b[0mOptional\u001b[0m\u001b[0;34m[\u001b[0m\u001b[0;34m\"Catalog_Type\"\u001b[0m\u001b[0;34m]\u001b[0m \u001b[0;34m=\u001b[0m \u001b[0;32mNone\u001b[0m\u001b[0;34m,\u001b[0m\u001b[0;34m\u001b[0m\u001b[0;34m\u001b[0m\u001b[0m\n\u001b[0m\u001b[1;32m    497\u001b[0m         \u001b[0mmigrate\u001b[0m\u001b[0;34m:\u001b[0m \u001b[0mbool\u001b[0m \u001b[0;34m=\u001b[0m \u001b[0;32mFalse\u001b[0m\u001b[0;34m,\u001b[0m\u001b[0;34m\u001b[0m\u001b[0;34m\u001b[0m\u001b[0m\n\u001b[1;32m    498\u001b[0m         \u001b[0mpreserve_dict\u001b[0m\u001b[0;34m:\u001b[0m \u001b[0mbool\u001b[0m \u001b[0;34m=\u001b[0m \u001b[0;32mTrue\u001b[0m\u001b[0;34m,\u001b[0m\u001b[0;34m\u001b[0m\u001b[0;34m\u001b[0m\u001b[0m\n",
      "\u001b[0;32m~/anaconda3/lib/python3.6/site-packages/pystac_client/client.py\u001b[0m in \u001b[0;36mfrom_dict\u001b[0;34m(cls, d, href, root)\u001b[0m\n\u001b[1;32m    140\u001b[0m                 \u001b[0mcat\u001b[0m\u001b[0;34m.\u001b[0m\u001b[0mremove_links\u001b[0m\u001b[0;34m(\u001b[0m\u001b[0mpystac\u001b[0m\u001b[0;34m.\u001b[0m\u001b[0mRelType\u001b[0m\u001b[0;34m.\u001b[0m\u001b[0mROOT\u001b[0m\u001b[0;34m)\u001b[0m\u001b[0;34m\u001b[0m\u001b[0;34m\u001b[0m\u001b[0m\n\u001b[1;32m    141\u001b[0m \u001b[0;34m\u001b[0m\u001b[0m\n\u001b[0;32m--> 142\u001b[0;31m             \u001b[0;32mif\u001b[0m \u001b[0mlink\u001b[0m\u001b[0;34m[\u001b[0m\u001b[0;34m\"rel\"\u001b[0m\u001b[0;34m]\u001b[0m \u001b[0;34m!=\u001b[0m \u001b[0mpystac\u001b[0m\u001b[0;34m.\u001b[0m\u001b[0mRelType\u001b[0m\u001b[0;34m.\u001b[0m\u001b[0mSELF\u001b[0m \u001b[0;32mor\u001b[0m \u001b[0mhref\u001b[0m \u001b[0;32mis\u001b[0m \u001b[0;32mNone\u001b[0m\u001b[0;34m:\u001b[0m\u001b[0;34m\u001b[0m\u001b[0;34m\u001b[0m\u001b[0m\n\u001b[0m\u001b[1;32m    143\u001b[0m                 \u001b[0mcat\u001b[0m\u001b[0;34m.\u001b[0m\u001b[0madd_link\u001b[0m\u001b[0;34m(\u001b[0m\u001b[0mLink\u001b[0m\u001b[0;34m.\u001b[0m\u001b[0mfrom_dict\u001b[0m\u001b[0;34m(\u001b[0m\u001b[0mlink\u001b[0m\u001b[0;34m)\u001b[0m\u001b[0;34m)\u001b[0m\u001b[0;34m\u001b[0m\u001b[0;34m\u001b[0m\u001b[0m\n\u001b[1;32m    144\u001b[0m \u001b[0;34m\u001b[0m\u001b[0m\n",
      "\u001b[0;32m~/anaconda3/lib/python3.6/site-packages/pystac_client/client.py\u001b[0m in \u001b[0;36m__init__\u001b[0;34m(self, id, description, title, stac_extensions, extra_fields, href, catalog_type, conformance, headers)\u001b[0m\n\u001b[1;32m     67\u001b[0m         \u001b[0;34m-\u001b[0m\u001b[0;34m-\u001b[0m\u001b[0;34m-\u001b[0m\u001b[0;34m-\u001b[0m\u001b[0;34m-\u001b[0m\u001b[0;34m-\u001b[0m\u001b[0;34m-\u001b[0m\u001b[0;34m-\u001b[0m\u001b[0;34m-\u001b[0m\u001b[0;34m-\u001b[0m\u001b[0;34m\u001b[0m\u001b[0;34m\u001b[0m\u001b[0m\n\u001b[1;32m     68\u001b[0m         \u001b[0murl\u001b[0m \u001b[0;34m:\u001b[0m \u001b[0mstr\u001b[0m\u001b[0;34m,\u001b[0m \u001b[0moptional\u001b[0m\u001b[0;34m\u001b[0m\u001b[0;34m\u001b[0m\u001b[0m\n\u001b[0;32m---> 69\u001b[0;31m             \u001b[0mThe\u001b[0m \u001b[0mURL\u001b[0m \u001b[0mof\u001b[0m \u001b[0ma\u001b[0m \u001b[0mSTAC\u001b[0m \u001b[0mCatalog\u001b[0m\u001b[0;34m.\u001b[0m \u001b[0mIf\u001b[0m \u001b[0;32mnot\u001b[0m \u001b[0mspecified\u001b[0m\u001b[0;34m,\u001b[0m \u001b[0mthis\u001b[0m \u001b[0mwill\u001b[0m \u001b[0muse\u001b[0m \u001b[0mthe\u001b[0m\u001b[0;31m \u001b[0m\u001b[0;31m`\u001b[0m\u001b[0mSTAC_URL\u001b[0m\u001b[0;31m`\u001b[0m \u001b[0menvironment\u001b[0m \u001b[0mvariable\u001b[0m\u001b[0;34m.\u001b[0m\u001b[0;34m\u001b[0m\u001b[0;34m\u001b[0m\u001b[0m\n\u001b[0m\u001b[1;32m     70\u001b[0m \u001b[0;34m\u001b[0m\u001b[0m\n\u001b[1;32m     71\u001b[0m         \u001b[0mReturns\u001b[0m\u001b[0;34m\u001b[0m\u001b[0;34m\u001b[0m\u001b[0m\n",
      "\u001b[0;31mConformanceError\u001b[0m: API does not conform to {ConformanceClasses.STAC_API_CORE}. Must contain one of the following URIs to conform (preferably the first):\n\thttps://api.stacspec.org/v1.0.0-beta.1/core\n\thttp://stacspec.org/spec/api/1.0.0-beta.1/core."
     ]
    }
   ],
   "source": [
    "from pystac_client import Client\n",
    "\n",
    "catalog = Client.open(\"https://planetarycomputer.microsoft.com/api/stac/v1\")"
   ]
  },
  {
   "cell_type": "code",
   "execution_count": null,
   "metadata": {
    "collapsed": true
   },
   "outputs": [],
   "source": []
  }
 ],
 "metadata": {
  "kernelspec": {
   "display_name": "Python 3",
   "language": "python",
   "name": "python3"
  },
  "language_info": {
   "codemirror_mode": {
    "name": "ipython",
    "version": 3
   },
   "file_extension": ".py",
   "mimetype": "text/x-python",
   "name": "python",
   "nbconvert_exporter": "python",
   "pygments_lexer": "ipython3",
   "version": "3.6.13"
  }
 },
 "nbformat": 4,
 "nbformat_minor": 2
}
